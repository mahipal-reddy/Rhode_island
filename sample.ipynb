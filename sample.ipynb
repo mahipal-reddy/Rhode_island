{
  "nbformat": 4,
  "nbformat_minor": 0,
  "metadata": {
    "colab": {
      "name": "sample.ipynb",
      "provenance": [],
      "toc_visible": true,
      "mount_file_id": "162rQ2h7YkNbrYzIzqTdJhKy9XB2OpFzu",
      "authorship_tag": "ABX9TyMQbzk/QlYzMaPgXHtVpPyJ",
      "include_colab_link": true
    },
    "kernelspec": {
      "name": "python3",
      "display_name": "Python 3"
    }
  },
  "cells": [
    {
      "cell_type": "markdown",
      "metadata": {
        "id": "view-in-github",
        "colab_type": "text"
      },
      "source": [
        "<a href=\"https://colab.research.google.com/github/mahipal-reddy/Rhode_island/blob/testing/sample.ipynb\" target=\"_parent\"><img src=\"https://colab.research.google.com/assets/colab-badge.svg\" alt=\"Open In Colab\"/></a>"
      ]
    },
    {
      "cell_type": "code",
      "metadata": {
        "id": "AvIWt-l8R8ah",
        "colab_type": "code",
        "colab": {}
      },
      "source": [
        "import pandas as pd"
      ],
      "execution_count": 1,
      "outputs": []
    },
    {
      "cell_type": "code",
      "metadata": {
        "id": "Lrs0J-vlSaCN",
        "colab_type": "code",
        "colab": {}
      },
      "source": [
        "mahipal=[1,2,3,4,5]"
      ],
      "execution_count": 2,
      "outputs": []
    },
    {
      "cell_type": "code",
      "metadata": {
        "id": "cILx8e7GSd3I",
        "colab_type": "code",
        "colab": {}
      },
      "source": [
        ""
      ],
      "execution_count": null,
      "outputs": []
    },
    {
      "cell_type": "markdown",
      "metadata": {
        "id": "VBJfSfFGSjR1",
        "colab_type": "text"
      },
      "source": [
        "# New Section"
      ]
    }
  ]
}